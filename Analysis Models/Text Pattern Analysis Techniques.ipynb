{
 "cells": [
  {
   "cell_type": "markdown",
   "metadata": {},
   "source": [
    "## Text Pattern Analysis Techniques ##\n",
    "\n",
    "*compiled and/or coded by Jon Puryear*"
   ]
  },
  {
   "cell_type": "code",
   "execution_count": 1,
   "metadata": {},
   "outputs": [],
   "source": [
    "#Import the external packages into Python to perform various analyses\n",
    "import re\n",
    "from nltk.corpus import stopwords\n",
    "from nltk import word_tokenize\n",
    "from nltk import punkt\n",
    "from sklearn.feature_extraction.text import TfidfVectorizer\n",
    "from sklearn.cluster import KMeans\n",
    "from sklearn.metrics import silhouette_score\n",
    "from sklearn.decomposition import PCA\n",
    "from sklearn.cluster import KMeans\n",
    "import pandas as pd\n",
    "import matplotlib.pyplot as plt\n",
    "import pylab as pl\n",
    "import json\n",
    "import pymssql as pym"
   ]
  },
  {
   "cell_type": "markdown",
   "metadata": {},
   "source": [
    "**Import Custom Functions**\n",
    "\n",
    "cleanString, createStopWords, fileDataLoad, WarehouseDataExtract"
   ]
  },
  {
   "cell_type": "code",
   "execution_count": 2,
   "metadata": {},
   "outputs": [],
   "source": [
    "#import custom functions\n",
    "from cleanString import cleanString\n",
    "from createStopWords import createStopWords\n",
    "from fileDataLoad import fileDataLoad"
   ]
  },
  {
   "cell_type": "markdown",
   "metadata": {},
   "source": [
    "**Collect Raw Data**"
   ]
  },
  {
   "cell_type": "code",
   "execution_count": 3,
   "metadata": {},
   "outputs": [],
   "source": [
    "# using my test star wars dataset - if this was a real analysis you would use another source file, \n",
    "# either from Excel, CSV or the AMS Warehouse using WarehouseData Extract\n",
    "filename = r'C:\\Users\\jpuryear1\\Documents\\Python Scripts\\starwars_data.xlsx'\n",
    "sheetname = 'Sheet1'"
   ]
  },
  {
   "cell_type": "code",
   "execution_count": 4,
   "metadata": {},
   "outputs": [],
   "source": [
    "inputDF = fileDataLoad(filename,sheetname)"
   ]
  },
  {
   "cell_type": "code",
   "execution_count": 5,
   "metadata": {},
   "outputs": [
    {
     "name": "stdout",
     "output_type": "stream",
     "text": [
      "                  Title                                            Summary\n",
      "0    The Phantom Menace  Two Jedi Knights escape a hostile blockade to ...\n",
      "1  Attack of the Clones  Ten years after initially meeting, Anakin Skyw...\n",
      "2   Revenge of the Sith  Three years into the Clone Wars, the Jedi resc...\n",
      "3                  Solo  During an adventure into the criminal underwor...\n",
      "4             Rogue One  The daughter of an Imperial scientist joins th...\n"
     ]
    }
   ],
   "source": [
    "print(inputDF.head())"
   ]
  },
  {
   "cell_type": "code",
   "execution_count": 6,
   "metadata": {},
   "outputs": [],
   "source": [
    "# Create a Backup version of the Input Dataframe for testing purposes...\n",
    "inputBU = inputDF.copy()"
   ]
  },
  {
   "cell_type": "markdown",
   "metadata": {},
   "source": [
    "### Transform the Text Data ###\n",
    "\n",
    "Extract the Text data from the dataframe, clean the Text, Tokenize the Text and insert back into the Input Dataframe"
   ]
  },
  {
   "cell_type": "markdown",
   "metadata": {},
   "source": [
    "**Clean the Text Strings**\n",
    "\n",
    "Dumps the 'Summary' data into a list, runs the CleanString() function on all the words and adds a \"Clean Text\" column back into the input dataframe"
   ]
  },
  {
   "cell_type": "code",
   "execution_count": 7,
   "metadata": {},
   "outputs": [],
   "source": [
    "# Extract the Summary data from the dataframe into a list\n",
    "TextReviewList = inputDF.loc[:,'Summary'].tolist()\n",
    "\n",
    "#Create a \"clean\" list to hold the cleaned strings\n",
    "TextCleanList = []\n",
    "\n",
    "# Clean the strings from TextReviewList and copy the clean strings to TextCleanList\n",
    "for str in TextReviewList:\n",
    "    TextCleanList.append(cleanString(str))\n",
    "    \n",
    "# adds a new column to the inputDF to hold the cleaned summary text\n",
    "inputDF['CleanText'] = ''\n",
    "\n",
    "# merge the cleaned summary back into the input dataframe\n",
    "inputDF['CleanText'] = pd.Series(TextCleanList).values"
   ]
  },
  {
   "cell_type": "code",
   "execution_count": 8,
   "metadata": {},
   "outputs": [],
   "source": [
    "# Uncomment the print statement if you want to check on the progress...\n",
    "# print(inputDF)"
   ]
  },
  {
   "cell_type": "markdown",
   "metadata": {},
   "source": [
    "## Convert the CleanText sentences into Word Tokens ##"
   ]
  },
  {
   "cell_type": "markdown",
   "metadata": {},
   "source": [
    "**Count Vectorizer**\n",
    "\n",
    "Counts the # of times a word appears in a given row"
   ]
  },
  {
   "cell_type": "code",
   "execution_count": 9,
   "metadata": {},
   "outputs": [],
   "source": [
    "from sklearn.feature_extraction.text import CountVectorizer\n",
    "#Instantiates the Count Vectorizer\n",
    "cvec = CountVectorizer(lowercase=True)\n",
    "\n",
    "# convert the documents into a document-term matrix\n",
    "count_matrix = cvec.fit_transform(TextCleanList)\n",
    "\n",
    "# retrieve the terms found in the corpora\n",
    "tokens = cvec.get_feature_names()\n",
    "\n",
    "# create a dataframe from a word matrix\n",
    "def count2df(wm, feat_names):\n",
    "    \n",
    "    # create an index for each row\n",
    "    doc_names = ['Doc{:d}'.format(idx) for idx, _ in enumerate(wm)]\n",
    "    df = pd.DataFrame(data=wm.toarray(), index=doc_names,\n",
    "                      columns=feat_names)\n",
    "    return(df)\n",
    "\n",
    "# create a dataframe from the matrix\n",
    "word_df = count2df(count_matrix, tokens)\n",
    "\n",
    "# Adds a new row called 'sum' and adds up the word counts by column\n",
    "word_df.loc['sum'] = word_df.sum()\n",
    "\n",
    "#transpose the Dataframe - so that words are the rows so we can sum the count of words across all documents\n",
    "word2_df = word_df.transpose()\n",
    "\n",
    "#add a column to sum up each word across docs\n",
    "word2_df['sum'] = word2_df[word2_df.columns].sum(axis=1)\n",
    "\n"
   ]
  },
  {
   "cell_type": "code",
   "execution_count": 10,
   "metadata": {},
   "outputs": [
    {
     "name": "stdout",
     "output_type": "stream",
     "text": [
      "              sum\n",
      "the            64\n",
      "to             22\n",
      "and            14\n",
      "jedi           12\n",
      "luke           10\n",
      "with           10\n",
      "from           10\n",
      "skywalker      10\n",
      "into            8\n",
      "after           8\n",
      "of              6\n",
      "by              6\n",
      "rescue          6\n",
      "for             6\n",
      "vader           6\n",
      "while           6\n",
      "are             6\n",
      "darth           6\n",
      "in              6\n",
      "an              6\n",
      "years           6\n",
      "death           4\n",
      "rey             4\n",
      "rebels          4\n",
      "empires         4\n",
      "meanwhile       4\n",
      "first           4\n",
      "galaxy          4\n",
      "palpatine       4\n",
      "new             4\n",
      "...           ...\n",
      "initially       2\n",
      "investigates    2\n",
      "across          2\n",
      "jabba           2\n",
      "joining         2\n",
      "kenobi          2\n",
      "knight          2\n",
      "knights         2\n",
      "lando           2\n",
      "future          2\n",
      "friends         2\n",
      "forces          2\n",
      "emperors        2\n",
      "discovers       2\n",
      "dispatch        2\n",
      "dooku           2\n",
      "dormant         2\n",
      "double          2\n",
      "droids          2\n",
      "during          2\n",
      "empire          2\n",
      "force           2\n",
      "encounters      2\n",
      "endor           2\n",
      "escape          2\n",
      "falling         2\n",
      "find            2\n",
      "finn            2\n",
      "forbidden       2\n",
      "young           2\n",
      "\n",
      "[190 rows x 1 columns]\n"
     ]
    }
   ],
   "source": [
    "# COLLAPSE THE DATAFRAME\n",
    "#define the columns to drop - we want to drop the document columns\n",
    "cols = word2_df.columns[0:-1]\n",
    "\n",
    "#create a new dataframe with just Word and Sum\n",
    "word3_df = word2_df.drop(cols, axis = 1) \n",
    "\n",
    "#sort the new dataframe by the sum of words\n",
    "word3_df = word3_df.sort_values(by=['sum'], ascending=False)\n",
    "\n",
    "print(word3_df)"
   ]
  },
  {
   "cell_type": "markdown",
   "metadata": {},
   "source": [
    "**In development**"
   ]
  },
  {
   "cell_type": "code",
   "execution_count": 11,
   "metadata": {},
   "outputs": [],
   "source": [
    "# create the Stop words to use\n",
    "stopset = createStopWords('')\n",
    "\n",
    "#need more information about what this does...\n",
    "vectorizer = TfidfVectorizer(stop_words=stopset, analyzer = 'word')\n",
    "#need more information about what this does...\n",
    "tfidf_matrix = vectorizer.fit_transform(inputDF.loc[:,'CleanText'].tolist())\n",
    "\n",
    "# break out the distinct words\n",
    "feature_names = vectorizer.get_feature_names()\n",
    "dense = tfidf_matrix.todense()\n",
    "denselist = dense.tolist()\n",
    "df = pd.DataFrame(denselist, columns=feature_names)\n"
   ]
  },
  {
   "cell_type": "code",
   "execution_count": 13,
   "metadata": {},
   "outputs": [
    {
     "name": "stdout",
     "output_type": "stream",
     "text": [
      "   abilities    across      acts  adventure     agent  alliance    allies  \\\n",
      "0   0.000000  0.212837  0.000000   0.000000  0.000000  0.000000  0.212837   \n",
      "1   0.000000  0.000000  0.000000   0.000000  0.000000  0.000000  0.000000   \n",
      "2   0.000000  0.000000  0.205954   0.000000  0.205954  0.000000  0.000000   \n",
      "3   0.000000  0.000000  0.000000   0.267276  0.000000  0.000000  0.000000   \n",
      "4   0.000000  0.000000  0.000000   0.000000  0.000000  0.299235  0.000000   \n",
      "5   0.000000  0.000000  0.000000   0.000000  0.000000  0.000000  0.000000   \n",
      "6   0.000000  0.000000  0.000000   0.000000  0.000000  0.000000  0.000000   \n",
      "7   0.000000  0.000000  0.000000   0.000000  0.000000  0.000000  0.000000   \n",
      "8   0.000000  0.000000  0.000000   0.000000  0.000000  0.000000  0.000000   \n",
      "9   0.264272  0.000000  0.000000   0.000000  0.000000  0.000000  0.000000   \n",
      "\n",
      "       also   amidala    anakin    ...     underworld  unsettled     vader  \\\n",
      "0  0.000000  0.000000  0.000000    ...       0.000000   0.000000  0.000000   \n",
      "1  0.000000  0.221261  0.188092    ...       0.000000   0.000000  0.000000   \n",
      "2  0.000000  0.000000  0.175080    ...       0.000000   0.000000  0.000000   \n",
      "3  0.000000  0.000000  0.000000    ...       0.267276   0.000000  0.000000   \n",
      "4  0.000000  0.000000  0.000000    ...       0.000000   0.000000  0.000000   \n",
      "5  0.221782  0.000000  0.000000    ...       0.000000   0.000000  0.164945   \n",
      "6  0.000000  0.000000  0.000000    ...       0.000000   0.000000  0.199579   \n",
      "7  0.000000  0.000000  0.000000    ...       0.000000   0.000000  0.153918   \n",
      "8  0.000000  0.000000  0.000000    ...       0.000000   0.000000  0.000000   \n",
      "9  0.000000  0.000000  0.000000    ...       0.000000   0.264272  0.000000   \n",
      "\n",
      "       wars   without   wookiee  worlddestroying     years      yoda     young  \n",
      "0  0.000000  0.000000  0.000000         0.000000  0.000000  0.000000  0.212837  \n",
      "1  0.000000  0.000000  0.000000         0.000000  0.164558  0.000000  0.000000  \n",
      "2  0.205954  0.000000  0.000000         0.000000  0.153174  0.000000  0.000000  \n",
      "3  0.000000  0.000000  0.000000         0.000000  0.198781  0.000000  0.000000  \n",
      "4  0.000000  0.000000  0.000000         0.000000  0.000000  0.000000  0.000000  \n",
      "5  0.000000  0.000000  0.221782         0.221782  0.000000  0.000000  0.000000  \n",
      "6  0.000000  0.000000  0.000000         0.000000  0.000000  0.268348  0.000000  \n",
      "7  0.000000  0.206955  0.000000         0.000000  0.000000  0.000000  0.000000  \n",
      "8  0.000000  0.000000  0.000000         0.000000  0.000000  0.000000  0.000000  \n",
      "9  0.000000  0.000000  0.000000         0.000000  0.000000  0.000000  0.000000  \n",
      "\n",
      "[10 rows x 163 columns]\n"
     ]
    }
   ],
   "source": [
    "# Prints where the count of a given word in a given doc is > 0
    print(df.loc[:] > 0)"
   ]
  },
  {
   "cell_type": "markdown",
   "metadata": {},
   "source": [
    "**Frequency of Words**\n",
    "\n",
    "Need to work through this section....\n",
    "\n",
    "1) Convert Clean text to Tokens - append to Input Dataframe\n",
    "\n",
    "2) Count the Frequency of the Tokens - append to Input Dataframe\n",
    "\n",
    "TF-IDF"
   ]
  },
  {
   "cell_type": "code",
   "execution_count": 14,
   "metadata": {},
   "outputs": [],
   "source": [
    "stopset = set(stopwords.words('english'))"
   ]
  },
  {
   "cell_type": "code",
   "execution_count": 15,
   "metadata": {},
   "outputs": [],
   "source": [
    "# Extract the Summary data from the dataframe into a list\n",
    "NewList = inputDF.loc[:,'CleanText'].tolist()"
   ]
  },
  {
   "cell_type": "code",
   "execution_count": 16,
   "metadata": {},
   "outputs": [],
   "source": [
    "#Create a \"clean\" list to hold the cleaned strings\n",
    "TextTokenList = []"
   ]
  },
  {
   "cell_type": "code",
   "execution_count": 18,
   "metadata": {},
   "outputs": [],
   "source": [
    "for str in NewList:\n",
    "    TextTokenList.append(word_tokenize(str))"
   ]
  },
  {
   "cell_type": "code",
   "execution_count": 19,
   "metadata": {},
   "outputs": [],
   "source": [
    "for review in TextTokenList:\n",
    "    for word in review:\n",
    "        if word in stopset:\n",
    "            review.remove(word)"
   ]
  },
  {
   "cell_type": "code",
   "execution_count": 20,
   "metadata": {},
   "outputs": [
    {
     "name": "stdout",
     "output_type": "stream",
     "text": [
      "[['two', 'jedi', 'knights', 'escape', 'hostile', 'blockade', 'find', 'allies', 'come', 'across', 'young', 'boy', 'may', 'bring', 'balance', 'the', 'force', 'the', 'long', 'dormant', 'sith', 'resurface', 'claim', 'old', 'glory'], ['ten', 'years', 'initially', 'meeting', 'anakin', 'skywalker', 'shares', 'forbidden', 'romance', 'padm', 'amidala', 'obiwan', 'kenobi', 'investigates', 'assassination', 'attempt', 'the', 'senator', 'discovers', 'secret', 'clone', 'army', 'crafted', 'the', 'jedi'], ['three', 'years', 'clone', 'wars', 'jedi', 'rescue', 'palpatine', 'count', 'dooku', 'obiwan', 'pursues', 'new', 'threat', 'anakin', 'acts', 'a', 'double', 'agent', 'the', 'jedi', 'council', 'palpatine', 'is', 'lured', 'a', 'sinister', 'plan', 'rule', 'the', 'galaxy'], ['an', 'adventure', 'criminal', 'underworld', 'han', 'solo', 'meets', 'future', 'copilot', 'chewbacca', 'encounters', 'lando', 'calrissian', 'years', 'joining', 'the', 'rebellion'], ['daughter', 'an', 'imperial', 'scientist', 'joins', 'rebel', 'alliance', 'a', 'risky', 'move', 'steal', 'death', 'star', 'plans'], ['luke', 'skywalker', 'joins', 'forces', 'jedi', 'knight', 'cocky', 'pilot', 'a', 'wookiee', 'two', 'droids', 'save', 'galaxy', 'the', 'empires', 'worlddestroying', 'battle', 'station', 'also', 'attempting', 'rescue', 'princess', 'leia', 'the', 'mysterious', 'darth', 'vader'], ['the', 'rebels', 'brutally', 'overpowered', 'the', 'empire', 'the', 'ice', 'planet', 'hoth', 'luke', 'skywalker', 'begins', 'jedi', 'training', 'yoda', 'his', 'friends', 'pursued', 'darth', 'vader'], ['daring', 'mission', 'rescue', 'han', 'solo', 'jabba', 'hutt', 'rebels', 'dispatch', 'endor', 'destroy', 'a', 'more', 'powerful', 'death', 'star', 'meanwhile', 'luke', 'struggles', 'help', 'darth', 'vader', 'back', 'the', 'dark', 'side', 'without', 'falling', 'the', 'emperors', 'trap'], ['three', 'decades', 'empires', 'defeat', 'new', 'threat', 'arises', 'the', 'militant', 'first', 'order', 'stormtrooper', 'defector', 'finn', 'the', 'scavenger', 'rey', 'caught', 'in', 'the', 'resistances', 'search', 'the', 'missing', 'luke', 'skywalker'], ['rey', 'develops', 'newly', 'discovered', 'abilities', 'guidance', 'luke', 'skywalker', 'is', 'unsettled', 'the', 'strength', 'her', 'powers', 'meanwhile', 'the', 'resistance', 'prepares', 'battle', 'the', 'first', 'order']]\n"
     ]
    }
   ],
   "source": [
    "print(TextTokenList)"
   ]
  },
  {
   "cell_type": "code",
   "execution_count": 21,
   "metadata": {},
   "outputs": [],
   "source": [
    "# adds a new column to the inputDF to hold the token text\n",
    "inputDF['CleanToken'] = ''\n",
    "\n",
    "# merge the token summary back into the input dataframe\n",
    "inputDF['CleanToken'] = pd.Series(TextTokenList).values"
   ]
  },
  {
   "cell_type": "code",
   "execution_count": 22,
   "metadata": {},
   "outputs": [
    {
     "name": "stdout",
     "output_type": "stream",
     "text": [
      "                     Title                                            Summary  \\\n",
      "0       The Phantom Menace  Two Jedi Knights escape a hostile blockade to ...   \n",
      "1     Attack of the Clones  Ten years after initially meeting, Anakin Skyw...   \n",
      "2      Revenge of the Sith  Three years into the Clone Wars, the Jedi resc...   \n",
      "3                     Solo  During an adventure into the criminal underwor...   \n",
      "4                Rogue One  The daughter of an Imperial scientist joins th...   \n",
      "5               A New Hope  Luke Skywalker joins forces with a Jedi Knight...   \n",
      "6  The Empire Strikes Back  After the rebels are brutally overpowered by t...   \n",
      "7       Return of the Jedi  After a daring mission to rescue Han Solo from...   \n",
      "8        The Force Awakens  Three decades after the Empire's defeat, a new...   \n",
      "9            The Last Jedi  Rey develops her newly discovered abilities wi...   \n",
      "\n",
      "                                           CleanText  \\\n",
      "0  two jedi knights escape a hostile blockade to ...   \n",
      "1  ten years after initially meeting anakin skywa...   \n",
      "2  three years into the clone wars the jedi rescu...   \n",
      "3  during an adventure into the criminal underwor...   \n",
      "4  the daughter of an imperial scientist joins th...   \n",
      "5  luke skywalker joins forces with a jedi knight...   \n",
      "6  after the rebels are brutally overpowered by t...   \n",
      "7  after a daring mission to rescue han solo from...   \n",
      "8  three decades after the empires defeat a new t...   \n",
      "9  rey develops her newly discovered abilities wi...   \n",
      "\n",
      "                                          CleanToken  \n",
      "0  [two, jedi, knights, escape, hostile, blockade...  \n",
      "1  [ten, years, initially, meeting, anakin, skywa...  \n",
      "2  [three, years, clone, wars, jedi, rescue, palp...  \n",
      "3  [an, adventure, criminal, underworld, han, sol...  \n",
      "4  [daughter, an, imperial, scientist, joins, reb...  \n",
      "5  [luke, skywalker, joins, forces, jedi, knight,...  \n",
      "6  [the, rebels, brutally, overpowered, the, empi...  \n",
      "7  [daring, mission, rescue, han, solo, jabba, hu...  \n",
      "8  [three, decades, empires, defeat, new, threat,...  \n",
      "9  [rey, develops, newly, discovered, abilities, ...  \n"
     ]
    }
   ],
   "source": [
    "print(inputDF)"
   ]
  },
  {
   "cell_type": "code",
   "execution_count": 23,
   "metadata": {},
   "outputs": [
    {
     "name": "stdout",
     "output_type": "stream",
     "text": [
      "['two', 'jedi', 'knights', 'escape', 'hostile', 'blockade', 'find', 'allies', 'come', 'across', 'young', 'boy', 'may', 'bring', 'balance', 'the', 'force', 'the', 'long', 'dormant', 'sith', 'resurface', 'claim', 'old', 'glory', 'ten', 'years', 'initially', 'meeting', 'anakin', 'skywalker', 'shares', 'forbidden', 'romance', 'padm', 'amidala', 'obiwan', 'kenobi', 'investigates', 'assassination', 'attempt', 'the', 'senator', 'discovers', 'secret', 'clone', 'army', 'crafted', 'the', 'jedi', 'three', 'years', 'clone', 'wars', 'jedi', 'rescue', 'palpatine', 'count', 'dooku', 'obiwan', 'pursues', 'new', 'threat', 'anakin', 'acts', 'a', 'double', 'agent', 'the', 'jedi', 'council', 'palpatine', 'is', 'lured', 'a', 'sinister', 'plan', 'rule', 'the', 'galaxy', 'an', 'adventure', 'criminal', 'underworld', 'han', 'solo', 'meets', 'future', 'copilot', 'chewbacca', 'encounters', 'lando', 'calrissian', 'years', 'joining', 'the', 'rebellion', 'daughter', 'an', 'imperial', 'scientist', 'joins', 'rebel', 'alliance', 'a', 'risky', 'move', 'steal', 'death', 'star', 'plans', 'luke', 'skywalker', 'joins', 'forces', 'jedi', 'knight', 'cocky', 'pilot', 'a', 'wookiee', 'two', 'droids', 'save', 'galaxy', 'the', 'empires', 'worlddestroying', 'battle', 'station', 'also', 'attempting', 'rescue', 'princess', 'leia', 'the', 'mysterious', 'darth', 'vader', 'the', 'rebels', 'brutally', 'overpowered', 'the', 'empire', 'the', 'ice', 'planet', 'hoth', 'luke', 'skywalker', 'begins', 'jedi', 'training', 'yoda', 'his', 'friends', 'pursued', 'darth', 'vader', 'daring', 'mission', 'rescue', 'han', 'solo', 'jabba', 'hutt', 'rebels', 'dispatch', 'endor', 'destroy', 'a', 'more', 'powerful', 'death', 'star', 'meanwhile', 'luke', 'struggles', 'help', 'darth', 'vader', 'back', 'the', 'dark', 'side', 'without', 'falling', 'the', 'emperors', 'trap', 'three', 'decades', 'empires', 'defeat', 'new', 'threat', 'arises', 'the', 'militant', 'first', 'order', 'stormtrooper', 'defector', 'finn', 'the', 'scavenger', 'rey', 'caught', 'in', 'the', 'resistances', 'search', 'the', 'missing', 'luke', 'skywalker', 'rey', 'develops', 'newly', 'discovered', 'abilities', 'guidance', 'luke', 'skywalker', 'is', 'unsettled', 'the', 'strength', 'her', 'powers', 'meanwhile', 'the', 'resistance', 'prepares', 'battle', 'the', 'first', 'order']\n"
     ]
    }
   ],
   "source": [
    "FreqList = []\n",
    "for lst in TextTokenList:\n",
    "    for word in lst:\n",
    "        FreqList.append(word)\n",
    "        \n",
    "print (FreqList)   "
   ]
  },
  {
   "cell_type": "code",
   "execution_count": 24,
   "metadata": {},
   "outputs": [],
   "source": [
    "CleanFreqList = []\n",
    "for word in FreqList:\n",
    "    if word not in stopset:\n",
    "            CleanFreqList.append(word)    "
   ]
  },
  {
   "cell_type": "code",
   "execution_count": 25,
   "metadata": {},
   "outputs": [
    {
     "name": "stdout",
     "output_type": "stream",
     "text": [
      "['two', 'jedi', 'knights', 'escape', 'hostile', 'blockade', 'find', 'allies', 'come', 'across', 'young', 'boy', 'may', 'bring', 'balance', 'force', 'long', 'dormant', 'sith', 'resurface', 'claim', 'old', 'glory', 'ten', 'years', 'initially', 'meeting', 'anakin', 'skywalker', 'shares', 'forbidden', 'romance', 'padm', 'amidala', 'obiwan', 'kenobi', 'investigates', 'assassination', 'attempt', 'senator', 'discovers', 'secret', 'clone', 'army', 'crafted', 'jedi', 'three', 'years', 'clone', 'wars', 'jedi', 'rescue', 'palpatine', 'count', 'dooku', 'obiwan', 'pursues', 'new', 'threat', 'anakin', 'acts', 'double', 'agent', 'jedi', 'council', 'palpatine', 'lured', 'sinister', 'plan', 'rule', 'galaxy', 'adventure', 'criminal', 'underworld', 'han', 'solo', 'meets', 'future', 'copilot', 'chewbacca', 'encounters', 'lando', 'calrissian', 'years', 'joining', 'rebellion', 'daughter', 'imperial', 'scientist', 'joins', 'rebel', 'alliance', 'risky', 'move', 'steal', 'death', 'star', 'plans', 'luke', 'skywalker', 'joins', 'forces', 'jedi', 'knight', 'cocky', 'pilot', 'wookiee', 'two', 'droids', 'save', 'galaxy', 'empires', 'worlddestroying', 'battle', 'station', 'also', 'attempting', 'rescue', 'princess', 'leia', 'mysterious', 'darth', 'vader', 'rebels', 'brutally', 'overpowered', 'empire', 'ice', 'planet', 'hoth', 'luke', 'skywalker', 'begins', 'jedi', 'training', 'yoda', 'friends', 'pursued', 'darth', 'vader', 'daring', 'mission', 'rescue', 'han', 'solo', 'jabba', 'hutt', 'rebels', 'dispatch', 'endor', 'destroy', 'powerful', 'death', 'star', 'meanwhile', 'luke', 'struggles', 'help', 'darth', 'vader', 'back', 'dark', 'side', 'without', 'falling', 'emperors', 'trap', 'three', 'decades', 'empires', 'defeat', 'new', 'threat', 'arises', 'militant', 'first', 'order', 'stormtrooper', 'defector', 'finn', 'scavenger', 'rey', 'caught', 'resistances', 'search', 'missing', 'luke', 'skywalker', 'rey', 'develops', 'newly', 'discovered', 'abilities', 'guidance', 'luke', 'skywalker', 'unsettled', 'strength', 'powers', 'meanwhile', 'resistance', 'prepares', 'battle', 'first', 'order']\n"
     ]
    }
   ],
   "source": [
    "print(CleanFreqList)"
   ]
  },
  {
   "cell_type": "code",
   "execution_count": null,
   "metadata": {},
   "outputs": [],
   "source": []
  }
 ],
 "metadata": {
  "kernelspec": {
   "display_name": "Python 3",
   "language": "python",
   "name": "python3"
  },
  "language_info": {
   "codemirror_mode": {
    "name": "ipython",
    "version": 3
   },
   "file_extension": ".py",
   "mimetype": "text/x-python",
   "name": "python",
   "nbconvert_exporter": "python",
   "pygments_lexer": "ipython3",
   "version": "3.7.2"
  }
 },
 "nbformat": 4,
 "nbformat_minor": 2
}
