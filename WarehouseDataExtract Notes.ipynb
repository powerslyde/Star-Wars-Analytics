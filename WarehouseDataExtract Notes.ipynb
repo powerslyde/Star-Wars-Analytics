{
 "cells": [
  {
   "cell_type": "markdown",
   "metadata": {},
   "source": [
    "## Using the WarehouseDataExtract function ##"
   ]
  },
  {
   "cell_type": "code",
   "execution_count": null,
   "metadata": {},
   "outputs": [],
   "source": [
    "import pandas as pd\n",
    "import pymssql as pym\n",
    "# custom function\n",
    "from WarehouseDataExtract import WarehouseDataExtract"
   ]
  },
  {
   "cell_type": "markdown",
   "metadata": {},
   "source": [
    "Example JSON file to use for userid and password\n",
    "{\n",
    "\"userid\": \"METNET\\\\######\",\n",
    "\"password\": \"#####\"\n",
    "}"
   ]
  },
  {
   "cell_type": "code",
   "execution_count": null,
   "metadata": {},
   "outputs": [],
   "source": [
    "# Imports the JSON file with User Id and Password\n",
    "db_data = json.load(open(r'c:\\Users/jpuryear1/Documents/Python Scripts/DB_connection.json'))"
   ]
  },
  {
   "cell_type": "code",
   "execution_count": null,
   "metadata": {},
   "outputs": [],
   "source": [
    "# Extracts user id and password to variables\n",
    "WH_USER = db_data['userid']\n",
    "WH_PW = db_data['password']\n",
    "\n",
    "#SQL to pull data for a given EAI Code\n",
    "sql = \"\"\"SELECT number, description\n",
    "  FROM [USBPMMetricsWhse].[dbo].[T_SRVNW_INCDN_SUM] a\n",
    "  JOIN [USBPMMetricsWhse].[dbo].[T_SRVNW_AFCT_TASK_CI_SUM] b on a.number = b.task\n",
    "  WHERE\n",
    "  a.DW_REC_CUR_IND = 'Y'\n",
    "  and b.ci_item like '1027%'\n",
    "  and a.opened_at > '2018-06-01 00:00:00'\"\"\""
   ]
  },
  {
   "cell_type": "code",
   "execution_count": null,
   "metadata": {},
   "outputs": [],
   "source": [
    "# runs the WarehouseDataExtract function and imports the data to a dataframe\n",
    "inputDF = WarehouseDataExtract(WH_USER, WH_PW, sql)"
   ]
  }
 ],
 "metadata": {
  "kernelspec": {
   "display_name": "Python 3",
   "language": "python",
   "name": "python3"
  },
  "language_info": {
   "codemirror_mode": {
    "name": "ipython",
    "version": 3
   },
   "file_extension": ".py",
   "mimetype": "text/x-python",
   "name": "python",
   "nbconvert_exporter": "python",
   "pygments_lexer": "ipython3",
   "version": "3.7.2"
  }
 },
 "nbformat": 4,
 "nbformat_minor": 2
}
