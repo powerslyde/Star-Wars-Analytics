{
 "cells": [
  {
   "cell_type": "markdown",
   "metadata": {},
   "source": [
    "# Text Pattern Analysis #"
   ]
  },
  {
   "cell_type": "code",
   "execution_count": 1,
   "metadata": {},
   "outputs": [],
   "source": [
    "import re\n",
    "from nltk.corpus import stopwords\n",
    "from nltk import word_tokenize\n",
    "from nltk import punkt\n",
    "from sklearn.feature_extraction.text import TfidfVectorizer\n",
    "from sklearn.cluster import KMeans\n",
    "import pandas as pd\n",
    "import matplotlib.pyplot as plt\n",
    "from sklearn.metrics import silhouette_score\n",
    "from sklearn.decomposition import PCA\n",
    "from sklearn.cluster import KMeans\n",
    "import pylab as pl"
   ]
  },
  {
   "cell_type": "markdown",
   "metadata": {},
   "source": [
    "**Function Definitions**"
   ]
  },
  {
   "cell_type": "code",
   "execution_count": 2,
   "metadata": {},
   "outputs": [],
   "source": [
    "def cleanString(incomingString):\n",
    " # Purpose: Cleans the input string.\n",
    " # Add or remove statements below as necessary depending on how much cleaning needs to be done.\n",
    "    newstring = incomingString\n",
    "    #newstring = re.sub('<[^>]*>', '' , newstring)\n",
    "    newstring = newstring.lower()\n",
    "    newstring = newstring.encode('ascii', 'ignore').decode('latin-1')\n",
    "    newstring = newstring.replace('!','')\n",
    "    newstring = newstring.replace('@','')\n",
    "    newstring = newstring.replace('#','')\n",
    "    newstring = newstring.replace('%','')\n",
    "    newstring = newstring.replace('^','')\n",
    "    newstring = newstring.replace('&','and')\n",
    "    newstring = newstring.replace('*','')\n",
    "    newstring = newstring.replace('(','')\n",
    "    newstring = newstring.replace('$','')\n",
    "    newstring = newstring.replace(')','')\n",
    "    newstring = newstring.replace('+','')\n",
    "    newstring = newstring.replace('=','')\n",
    "    newstring = newstring.replace('?','')\n",
    "    newstring = newstring.replace('\\'','')\n",
    "    newstring = newstring.replace('\\'','')\n",
    "    newstring = newstring.replace('{','')\n",
    "    newstring = newstring.replace('}','')\n",
    "    newstring = newstring.replace('[','')\n",
    "    newstring = newstring.replace(']','')\n",
    "    newstring = newstring.replace('<','')\n",
    "    newstring = newstring.replace('>','')\n",
    "    newstring = newstring.replace('~','')\n",
    "    newstring = newstring.replace('`','')\n",
    "    newstring = newstring.replace(':','')\n",
    "    newstring = newstring.replace(';','')\n",
    "    newstring = newstring.replace('|','')\n",
    "    newstring = newstring.replace('\\\\','')\n",
    "    newstring = newstring.replace('/','')\n",
    "    newstring = newstring.replace('-','')\n",
    "    newstring = newstring.replace('_','')\n",
    "    #newstring = newstring.replace('br','')\n",
    "    newstring = newstring.replace(',','')\n",
    "    newstring = newstring.replace('.','')\n",
    "    return newstring"
   ]
  },
  {
   "cell_type": "code",
   "execution_count": 3,
   "metadata": {},
   "outputs": [],
   "source": [
    "def createStopWords():\n",
    "    #define the Stop words used\n",
    "    stopWords = (stopwords.words('english'))\n",
    "    #remove_words = ['us/eastern']\n",
    "    #stopWords.update(remove_words)\n",
    "    return stopWords"
   ]
  },
  {
   "cell_type": "code",
   "execution_count": 4,
   "metadata": {},
   "outputs": [],
   "source": [
    "def fileDataLoad(filename, sheetname):\n",
    "    #load data from Excel File\n",
    "    #eventually add a variable to check for multiple data types...\n",
    "    inputDF = pd.read_excel(filename, sheet_name=sheetname)\n",
    "    return inputDF"
   ]
  },
  {
   "cell_type": "markdown",
   "metadata": {},
   "source": [
    "**Collect Raw Data**"
   ]
  },
  {
   "cell_type": "code",
   "execution_count": 5,
   "metadata": {},
   "outputs": [],
   "source": [
    "#using my test star wars dataset\n",
    "filename = 'data/Star Wars Data Samples/starwars_data.xlsx'\n",
    "sheetname = 'Sheet1'"
   ]
  },
  {
   "cell_type": "code",
   "execution_count": 6,
   "metadata": {},
   "outputs": [],
   "source": [
    "inputDF = fileDataLoad(filename,sheetname)"
   ]
  },
  {
   "cell_type": "code",
   "execution_count": 7,
   "metadata": {},
   "outputs": [],
   "source": [
    "#FUTURE: Concatenate Columns from Dataframe into a single text blob\n",
    "# Create a Backup version of the Input Dataframe for testing purposes...\n",
    "inputBU = inputDF.copy()"
   ]
  },
  {
   "cell_type": "markdown",
   "metadata": {},
   "source": [
    "**Transform the Text Data**\n",
    "\n",
    "Extract the Text data from the dataframe, clean the Text, Tokenize the Text and insert back into the Input Dataframe"
   ]
  },
  {
   "cell_type": "code",
   "execution_count": 8,
   "metadata": {},
   "outputs": [],
   "source": [
    "# Extract the Summary data from the dataframe into a list\n",
    "TextReviewList = inputDF.loc[:,'Summary'].tolist()\n",
    "\n",
    "#Create a \"clean\" list to hold the cleaned strings\n",
    "TextCleanList = []\n",
    "\n",
    "# Clean the strings from TextReviewList and copy the clean strings to TextCleanList\n",
    "for str in TextReviewList:\n",
    "    TextCleanList.append(cleanString(str))\n",
    "    \n",
    "# adds a new column to the inputDF to hold the cleaned summary text\n",
    "inputDF['CleanText'] = ''\n",
    "\n",
    "# merge the cleaned summary back into the input dataframe\n",
    "inputDF['CleanText'] = pd.Series(TextCleanList).values"
   ]
  },
  {
   "cell_type": "code",
   "execution_count": 9,
   "metadata": {},
   "outputs": [],
   "source": [
    "#need more information about what this does...\n",
    "vectorizer = TfidfVectorizer(stop_words='english', analyzer = 'word')\n",
    "tfidf_matrix = vectorizer.fit_transform(inputDF.loc[:,'CleanText'].tolist())"
   ]
  },
  {
   "cell_type": "code",
   "execution_count": 10,
   "metadata": {},
   "outputs": [],
   "source": [
    "#need more information about what this does...\n",
    "vector_dict = {}\n",
    "vector_dict = vectorizer.vocabulary_\n",
    "#print(tfidf_matrix.toarray())\n",
    "km_array = tfidf_matrix.toarray()"
   ]
  },
  {
   "cell_type": "code",
   "execution_count": 11,
   "metadata": {},
   "outputs": [
    {
     "name": "stdout",
     "output_type": "stream",
     "text": [
      "5 clusters will be generated\n"
     ]
    }
   ],
   "source": [
    "# how many clusters should be generated?\n",
    "num_clusters = 5\n",
    "\n",
    "#print string not really needed...\n",
    "print (f'{num_clusters} clusters will be generated')"
   ]
  },
  {
   "cell_type": "code",
   "execution_count": 12,
   "metadata": {},
   "outputs": [
    {
     "data": {
      "text/plain": [
       "KMeans(algorithm='auto', copy_x=True, init='k-means++', max_iter=100,\n",
       "    n_clusters=5, n_init=10, n_jobs=None, precompute_distances='auto',\n",
       "    random_state=42, tol=0.0001, verbose=0)"
      ]
     },
     "execution_count": 12,
     "metadata": {},
     "output_type": "execute_result"
    }
   ],
   "source": [
    "#need more information about what this does...\n",
    "km = KMeans(n_clusters=num_clusters, init='k-means++', n_init=10, max_iter=100, random_state = 42)\n",
    "km.fit(tfidf_matrix)"
   ]
  },
  {
   "cell_type": "code",
   "execution_count": 13,
   "metadata": {},
   "outputs": [
    {
     "name": "stdout",
     "output_type": "stream",
     "text": [
      "             Title  Summary  CleanText\n",
      "Cluster_num                           \n",
      "0                2        2          2\n",
      "1                4        4          4\n",
      "2                2        2          2\n",
      "3                1        1          1\n",
      "4                1        1          1\n"
     ]
    }
   ],
   "source": [
    "# importing the cluster # to a list\n",
    "clusters = km.labels_.tolist()\n",
    "\n",
    "# Adding the cluster # to a new column in the Input dataframe\n",
    "inputDF['Cluster_num'] = clusters\n",
    "\n",
    "#Displays the Data distribution by cluster\n",
    "grp = inputDF.groupby('Cluster_num').count()\n",
    "print (grp)"
   ]
  },
  {
   "cell_type": "code",
   "execution_count": 14,
   "metadata": {},
   "outputs": [],
   "source": [
    "pca = PCA(n_components=2).fit(km_array.data)\n",
    "pca_2d = pca.transform(km_array.data)"
   ]
  },
  {
   "cell_type": "code",
   "execution_count": 15,
   "metadata": {},
   "outputs": [
    {
     "data": {
      "image/png": "[encoded data removed]",
      "text/plain": [
       "<Figure size 1440x720 with 1 Axes>"
      ]
     },
     "metadata": {
      "needs_background": "light"
     },
     "output_type": "display_data"
    }
   ],
   "source": [
    "pl.figure(figsize=(20,10))\n",
    "pl.title('KMeans clustering')\n",
    "\n",
    "clr = ['b','g','r','c','m','y','k']\n",
    "pl.scatter(pca_2d[:, 0], pca_2d[:, 1], c=km.labels_)\n",
    "pl.show()"
   ]
  },
  {
   "cell_type": "markdown",
   "metadata": {},
   "source": [
    "**Reference Material**"
   ]
  },
  {
   "cell_type": "markdown",
   "metadata": {},
   "source": [
    "https://www.shanelynn.ie/select-pandas-dataframe-rows-and-columns-using-iloc-loc-and-ix/"
   ]
  },
  {
   "cell_type": "code",
   "execution_count": 16,
   "metadata": {},
   "outputs": [
    {
     "name": "stdout",
     "output_type": "stream",
     "text": [
      "                     Title                                            Summary  \\\n",
      "0       The Phantom Menace  Two Jedi Knights escape a hostile blockade to ...   \n",
      "1     Attack of the Clones  Ten years after initially meeting, Anakin Skyw...   \n",
      "2      Revenge of the Sith  Three years into the Clone Wars, the Jedi resc...   \n",
      "3                     Solo  During an adventure into the criminal underwor...   \n",
      "4                Rogue One  The daughter of an Imperial scientist joins th...   \n",
      "5               A New Hope  Luke Skywalker joins forces with a Jedi Knight...   \n",
      "6  The Empire Strikes Back  After the rebels are brutally overpowered by t...   \n",
      "7       Return of the Jedi  After a daring mission to rescue Han Solo from...   \n",
      "8        The Force Awakens  Three decades after the Empire's defeat, a new...   \n",
      "9            The Last Jedi  Rey develops her newly discovered abilities wi...   \n",
      "\n",
      "                                           CleanText  Cluster_num  \n",
      "0  two jedi knights escape a hostile blockade to ...            4  \n",
      "1  ten years after initially meeting anakin skywa...            2  \n",
      "2  three years into the clone wars the jedi rescu...            2  \n",
      "3  during an adventure into the criminal underwor...            3  \n",
      "4  the daughter of an imperial scientist joins th...            1  \n",
      "5  luke skywalker joins forces with a jedi knight...            1  \n",
      "6  after the rebels are brutally overpowered by t...            1  \n",
      "7  after a daring mission to rescue han solo from...            1  \n",
      "8  three decades after the empires defeat a new t...            0  \n",
      "9  rey develops her newly discovered abilities wi...            0  \n"
     ]
    }
   ],
   "source": [
    "print(inputDF)"
   ]
  },
  {
   "cell_type": "markdown",
   "metadata": {},
   "source": [
    "**Frequency of Words**\n",
    "\n",
    "Need to work through this section....\n",
    "\n",
    "1) Convert Clean text to Tokens - append to Input Dataframe\n",
    "\n",
    "2) Count the Frequency of the Tokens - append to Input Dataframe\n",
    "\n",
    "TF-IDF"
   ]
  },
  {
   "cell_type": "code",
   "execution_count": 17,
   "metadata": {},
   "outputs": [],
   "source": [
    "stopset = set(stopwords.words('english'))"
   ]
  },
  {
   "cell_type": "code",
   "execution_count": 18,
   "metadata": {},
   "outputs": [],
   "source": [
    "# Extract the Summary data from the dataframe into a list\n",
    "NewList = inputDF.loc[:,'CleanText'].tolist()"
   ]
  },
  {
   "cell_type": "code",
   "execution_count": 20,
   "metadata": {},
   "outputs": [],
   "source": [
    "#Create a \"clean\" list to hold the cleaned strings\n",
    "TextTokenList = []"
   ]
  },
  {
   "cell_type": "code",
   "execution_count": 22,
   "metadata": {},
   "outputs": [],
   "source": [
    "for str in NewList:\n",
    "    TextTokenList.append(word_tokenize(str))"
   ]
  },
  {
   "cell_type": "code",
   "execution_count": 24,
   "metadata": {},
   "outputs": [],
   "source": [
    "for review in TextTokenList:\n",
    "    for word in review:\n",
    "        if word in stopset:\n",
    "            review.remove(word)"
   ]
  },
  {
   "cell_type": "code",
   "execution_count": 28,
   "metadata": {},
   "outputs": [],
   "source": [
    "#print(TextTokenList)"
   ]
  },
  {
   "cell_type": "code",
   "execution_count": 26,
   "metadata": {},
   "outputs": [],
   "source": [
    "# adds a new column to the inputDF to hold the token text\n",
    "inputDF['CleanToken'] = ''\n",
    "\n",
    "# merge the token summary back into the input dataframe\n",
    "inputDF['CleanToken'] = pd.Series(TextTokenList).values"
   ]
  },
  {
   "cell_type": "code",
   "execution_count": 30,
   "metadata": {},
   "outputs": [
    {
     "name": "stdout",
     "output_type": "stream",
     "text": [
      "                     Title                                            Summary  \\\n",
      "0       The Phantom Menace  Two Jedi Knights escape a hostile blockade to ...   \n",
      "1     Attack of the Clones  Ten years after initially meeting, Anakin Skyw...   \n",
      "2      Revenge of the Sith  Three years into the Clone Wars, the Jedi resc...   \n",
      "3                     Solo  During an adventure into the criminal underwor...   \n",
      "4                Rogue One  The daughter of an Imperial scientist joins th...   \n",
      "5               A New Hope  Luke Skywalker joins forces with a Jedi Knight...   \n",
      "6  The Empire Strikes Back  After the rebels are brutally overpowered by t...   \n",
      "7       Return of the Jedi  After a daring mission to rescue Han Solo from...   \n",
      "8        The Force Awakens  Three decades after the Empire's defeat, a new...   \n",
      "9            The Last Jedi  Rey develops her newly discovered abilities wi...   \n",
      "\n",
      "                                           CleanText  Cluster_num  \\\n",
      "0  two jedi knights escape a hostile blockade to ...            4   \n",
      "1  ten years after initially meeting anakin skywa...            2   \n",
      "2  three years into the clone wars the jedi rescu...            2   \n",
      "3  during an adventure into the criminal underwor...            3   \n",
      "4  the daughter of an imperial scientist joins th...            1   \n",
      "5  luke skywalker joins forces with a jedi knight...            1   \n",
      "6  after the rebels are brutally overpowered by t...            1   \n",
      "7  after a daring mission to rescue han solo from...            1   \n",
      "8  three decades after the empires defeat a new t...            0   \n",
      "9  rey develops her newly discovered abilities wi...            0   \n",
      "\n",
      "                                          CleanToken  \n",
      "0  [two, jedi, knights, escape, hostile, blockade...  \n",
      "1  [ten, years, initially, meeting, anakin, skywa...  \n",
      "2  [three, years, clone, wars, jedi, rescue, palp...  \n",
      "3  [an, adventure, criminal, underworld, han, sol...  \n",
      "4  [daughter, an, imperial, scientist, joins, reb...  \n",
      "5  [luke, skywalker, joins, forces, jedi, knight,...  \n",
      "6  [the, rebels, brutally, overpowered, the, empi...  \n",
      "7  [daring, mission, rescue, han, solo, jabba, hu...  \n",
      "8  [three, decades, empires, defeat, new, threat,...  \n",
      "9  [rey, develops, newly, discovered, abilities, ...  \n"
     ]
    }
   ],
   "source": [
    "print(inputDF)"
   ]
  },
  {
   "cell_type": "markdown",
   "metadata": {},
   "source": [
    "https://medium.freecodecamp.org/how-to-process-textual-data-using-tf-idf-in-python-cd2bbc0a94a3\n",
    "\n",
    "https://www.elephate.com/blog/what-is-tf-idf/\n",
    "\n",
    "https://triton.ml/blog/tf-idf-from-scratch\n",
    "\n",
    "https://towardsdatascience.com/tfidf-for-piece-of-text-in-python-43feccaa74f8\n",
    "\n",
    "https://www.codementor.io/isaib.cicourel/word-frequency-in-python-e7cyzy6l9\n"
   ]
  },
  {
   "cell_type": "code",
   "execution_count": 32,
   "metadata": {},
   "outputs": [
    {
     "name": "stdout",
     "output_type": "stream",
     "text": [
      "['two', 'jedi', 'knights', 'escape', 'hostile', 'blockade', 'find', 'allies', 'come', 'across', 'young', 'boy', 'may', 'bring', 'balance', 'the', 'force', 'the', 'long', 'dormant', 'sith', 'resurface', 'claim', 'old', 'glory', 'ten', 'years', 'initially', 'meeting', 'anakin', 'skywalker', 'shares', 'forbidden', 'romance', 'padm', 'amidala', 'obiwan', 'kenobi', 'investigates', 'assassination', 'attempt', 'the', 'senator', 'discovers', 'secret', 'clone', 'army', 'crafted', 'the', 'jedi', 'three', 'years', 'clone', 'wars', 'jedi', 'rescue', 'palpatine', 'count', 'dooku', 'obiwan', 'pursues', 'new', 'threat', 'anakin', 'acts', 'a', 'double', 'agent', 'the', 'jedi', 'council', 'palpatine', 'is', 'lured', 'a', 'sinister', 'plan', 'rule', 'the', 'galaxy', 'an', 'adventure', 'criminal', 'underworld', 'han', 'solo', 'meets', 'future', 'copilot', 'chewbacca', 'encounters', 'lando', 'calrissian', 'years', 'joining', 'the', 'rebellion', 'daughter', 'an', 'imperial', 'scientist', 'joins', 'rebel', 'alliance', 'a', 'risky', 'move', 'steal', 'death', 'star', 'plans', 'luke', 'skywalker', 'joins', 'forces', 'jedi', 'knight', 'cocky', 'pilot', 'a', 'wookiee', 'two', 'droids', 'save', 'galaxy', 'the', 'empires', 'worlddestroying', 'battle', 'station', 'also', 'attempting', 'rescue', 'princess', 'leia', 'the', 'mysterious', 'darth', 'vader', 'the', 'rebels', 'brutally', 'overpowered', 'the', 'empire', 'the', 'ice', 'planet', 'hoth', 'luke', 'skywalker', 'begins', 'jedi', 'training', 'yoda', 'his', 'friends', 'pursued', 'darth', 'vader', 'daring', 'mission', 'rescue', 'han', 'solo', 'jabba', 'hutt', 'rebels', 'dispatch', 'endor', 'destroy', 'a', 'more', 'powerful', 'death', 'star', 'meanwhile', 'luke', 'struggles', 'help', 'darth', 'vader', 'back', 'the', 'dark', 'side', 'without', 'falling', 'the', 'emperors', 'trap', 'three', 'decades', 'empires', 'defeat', 'new', 'threat', 'arises', 'the', 'militant', 'first', 'order', 'stormtrooper', 'defector', 'finn', 'the', 'scavenger', 'rey', 'caught', 'in', 'the', 'resistances', 'search', 'the', 'missing', 'luke', 'skywalker', 'rey', 'develops', 'newly', 'discovered', 'abilities', 'guidance', 'luke', 'skywalker', 'is', 'unsettled', 'the', 'strength', 'her', 'powers', 'meanwhile', 'the', 'resistance', 'prepares', 'battle', 'the', 'first', 'order']\n"
     ]
    }
   ],
   "source": [
    "FreqList = []\n",
    "for lst in TextTokenList:\n",
    "    for word in lst:\n",
    "        FreqList.append(word)\n",
    "        \n",
    "print (FreqList)        "
   ]
  },
  {
   "cell_type": "code",
   "execution_count": 33,
   "metadata": {},
   "outputs": [],
   "source": [
    "CleanFreqList = []\n",
    "for word in FreqList:\n",
    "    if word not in stopset:\n",
    "            CleanFreqList.append(word)    "
   ]
  },
  {
   "cell_type": "code",
   "execution_count": 34,
   "metadata": {},
   "outputs": [
    {
     "name": "stdout",
     "output_type": "stream",
     "text": [
      "['two', 'jedi', 'knights', 'escape', 'hostile', 'blockade', 'find', 'allies', 'come', 'across', 'young', 'boy', 'may', 'bring', 'balance', 'force', 'long', 'dormant', 'sith', 'resurface', 'claim', 'old', 'glory', 'ten', 'years', 'initially', 'meeting', 'anakin', 'skywalker', 'shares', 'forbidden', 'romance', 'padm', 'amidala', 'obiwan', 'kenobi', 'investigates', 'assassination', 'attempt', 'senator', 'discovers', 'secret', 'clone', 'army', 'crafted', 'jedi', 'three', 'years', 'clone', 'wars', 'jedi', 'rescue', 'palpatine', 'count', 'dooku', 'obiwan', 'pursues', 'new', 'threat', 'anakin', 'acts', 'double', 'agent', 'jedi', 'council', 'palpatine', 'lured', 'sinister', 'plan', 'rule', 'galaxy', 'adventure', 'criminal', 'underworld', 'han', 'solo', 'meets', 'future', 'copilot', 'chewbacca', 'encounters', 'lando', 'calrissian', 'years', 'joining', 'rebellion', 'daughter', 'imperial', 'scientist', 'joins', 'rebel', 'alliance', 'risky', 'move', 'steal', 'death', 'star', 'plans', 'luke', 'skywalker', 'joins', 'forces', 'jedi', 'knight', 'cocky', 'pilot', 'wookiee', 'two', 'droids', 'save', 'galaxy', 'empires', 'worlddestroying', 'battle', 'station', 'also', 'attempting', 'rescue', 'princess', 'leia', 'mysterious', 'darth', 'vader', 'rebels', 'brutally', 'overpowered', 'empire', 'ice', 'planet', 'hoth', 'luke', 'skywalker', 'begins', 'jedi', 'training', 'yoda', 'friends', 'pursued', 'darth', 'vader', 'daring', 'mission', 'rescue', 'han', 'solo', 'jabba', 'hutt', 'rebels', 'dispatch', 'endor', 'destroy', 'powerful', 'death', 'star', 'meanwhile', 'luke', 'struggles', 'help', 'darth', 'vader', 'back', 'dark', 'side', 'without', 'falling', 'emperors', 'trap', 'three', 'decades', 'empires', 'defeat', 'new', 'threat', 'arises', 'militant', 'first', 'order', 'stormtrooper', 'defector', 'finn', 'scavenger', 'rey', 'caught', 'resistances', 'search', 'missing', 'luke', 'skywalker', 'rey', 'develops', 'newly', 'discovered', 'abilities', 'guidance', 'luke', 'skywalker', 'unsettled', 'strength', 'powers', 'meanwhile', 'resistance', 'prepares', 'battle', 'first', 'order']\n"
     ]
    }
   ],
   "source": [
    "print(CleanFreqList)"
   ]
  },
  {
   "cell_type": "code",
   "execution_count": 65,
   "metadata": {},
   "outputs": [],
   "source": [
    "def computeIDF(docList):\n",
    "    import math\n",
    "    idfDict = {}\n",
    "    n = len(docList)\n",
    "    \n",
    "    idfDict = dict.fromkeys(docList[0], 0)\n",
    "    for doc in docList:\n",
    "        for word, val in doc.items():\n",
    "            if val > 0:\n",
    "                idfDict[word] += 1\n",
    "    for word, val in idfDict.items():\n",
    "        idfDict[word] = math.log10(n / float(val))\n",
    "    \n",
    "    return idfDict"
   ]
  },
  {
   "cell_type": "code",
   "execution_count": 66,
   "metadata": {},
   "outputs": [
    {
     "ename": "AttributeError",
     "evalue": "'str' object has no attribute 'items'",
     "output_type": "error",
     "traceback": [
      "\u001b[0;31m---------------------------------------------------------------------------\u001b[0m",
      "\u001b[0;31mAttributeError\u001b[0m                            Traceback (most recent call last)",
      "\u001b[0;32m<ipython-input-66-03a3e708db3e>\u001b[0m in \u001b[0;36m<module>\u001b[0;34m\u001b[0m\n\u001b[0;32m----> 1\u001b[0;31m \u001b[0mIDF\u001b[0m \u001b[0;34m=\u001b[0m \u001b[0mcomputeIDF\u001b[0m\u001b[0;34m(\u001b[0m\u001b[0mCleanFreqList\u001b[0m\u001b[0;34m)\u001b[0m\u001b[0;34m\u001b[0m\u001b[0m\n\u001b[0m",
      "\u001b[0;32m<ipython-input-65-c2f847f8460f>\u001b[0m in \u001b[0;36mcomputeIDF\u001b[0;34m(docList)\u001b[0m\n\u001b[1;32m      6\u001b[0m     \u001b[0midfDict\u001b[0m \u001b[0;34m=\u001b[0m \u001b[0mdict\u001b[0m\u001b[0;34m.\u001b[0m\u001b[0mfromkeys\u001b[0m\u001b[0;34m(\u001b[0m\u001b[0mdocList\u001b[0m\u001b[0;34m[\u001b[0m\u001b[0;36m0\u001b[0m\u001b[0;34m]\u001b[0m\u001b[0;34m,\u001b[0m \u001b[0;36m0\u001b[0m\u001b[0;34m)\u001b[0m\u001b[0;34m\u001b[0m\u001b[0m\n\u001b[1;32m      7\u001b[0m     \u001b[0;32mfor\u001b[0m \u001b[0mdoc\u001b[0m \u001b[0;32min\u001b[0m \u001b[0mdocList\u001b[0m\u001b[0;34m:\u001b[0m\u001b[0;34m\u001b[0m\u001b[0m\n\u001b[0;32m----> 8\u001b[0;31m         \u001b[0;32mfor\u001b[0m \u001b[0mword\u001b[0m\u001b[0;34m,\u001b[0m \u001b[0mval\u001b[0m \u001b[0;32min\u001b[0m \u001b[0mdoc\u001b[0m\u001b[0;34m.\u001b[0m\u001b[0mitems\u001b[0m\u001b[0;34m(\u001b[0m\u001b[0;34m)\u001b[0m\u001b[0;34m:\u001b[0m\u001b[0;34m\u001b[0m\u001b[0m\n\u001b[0m\u001b[1;32m      9\u001b[0m             \u001b[0;32mif\u001b[0m \u001b[0mval\u001b[0m \u001b[0;34m>\u001b[0m \u001b[0;36m0\u001b[0m\u001b[0;34m:\u001b[0m\u001b[0;34m\u001b[0m\u001b[0m\n\u001b[1;32m     10\u001b[0m                 \u001b[0midfDict\u001b[0m\u001b[0;34m[\u001b[0m\u001b[0mword\u001b[0m\u001b[0;34m]\u001b[0m \u001b[0;34m+=\u001b[0m \u001b[0;36m1\u001b[0m\u001b[0;34m\u001b[0m\u001b[0m\n",
      "\u001b[0;31mAttributeError\u001b[0m: 'str' object has no attribute 'items'"
     ]
    }
   ],
   "source": [
    "IDF = computeIDF(CleanFreqList)"
   ]
  },
  {
   "cell_type": "code",
   "execution_count": null,
   "metadata": {},
   "outputs": [],
   "source": []
  }
 ],
 "metadata": {
  "kernelspec": {
   "display_name": "Python 3",
   "language": "python",
   "name": "python3"
  },
  "language_info": {
   "codemirror_mode": {
    "name": "ipython",
    "version": 3
   },
   "file_extension": ".py",
   "mimetype": "text/x-python",
   "name": "python",
   "nbconvert_exporter": "python",
   "pygments_lexer": "ipython3",
   "version": "3.6.6"
  }
 },
 "nbformat": 4,
 "nbformat_minor": 2
}
