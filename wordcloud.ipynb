{
 "cells": [
  {
   "cell_type": "markdown",
   "metadata": {},
   "source": [
    "## Generating a Wordcloud ##\n",
    "\n"
   ]
  },
  {
   "cell_type": "code",
   "execution_count": null,
   "metadata": {},
   "outputs": [],
   "source": [
    "import numpy as np\n",
    "import pandas as pd\n",
    "from os import path\n",
    "from PIL import Image\n",
    "#had to grab the .whl file to import into Python\n",
    "from wordcloud import WordCloud, STOPWORDS, ImageColorGenerator\n",
    "import matplotlib.pyplot as plt\n",
    "import json\n",
    "import pymssql as pym\n",
    "#custom functions\n",
    "from fileDataLoad import fileDataLoad\n",
    "from WarehouseDataExtract import WarehouseDataExtract\n",
    "from createStopWords import createStopWords\n",
    "from cleanString import cleanString"
   ]
  },
  {
   "cell_type": "markdown",
   "metadata": {},
   "source": [
    "This section is for loading from a file using fileDataLoad\n",
    "\n",
    "Uncomment code as needed"
   ]
  },
  {
   "cell_type": "code",
   "execution_count": null,
   "metadata": {},
   "outputs": [],
   "source": [
    "#filename = r'c:\\Users\\jpuryear1\\Documents\\Python Scripts\\starwars_data.xlsx'\n",
    "#sheetname = 'Sheet1'\n",
    "#inputDF = fileDataLoad(filename, sheetname)"
   ]
  },
  {
   "cell_type": "markdown",
   "metadata": {},
   "source": [
    "This section is for loading from the AMS Warehouse\n",
    "\n",
    "Comment or Uncomment Code as needed"
   ]
  },
  {
   "cell_type": "code",
   "execution_count": null,
   "metadata": {},
   "outputs": [],
   "source": [
    "# Imports the JSON file with User Id and Password\n",
    "db_data = json.load(open(r'c:\\Users/jpuryear1/Documents/Python Scripts/DB_connection.json'))\n",
    "\n",
    "# Extracts user id and password to variables\n",
    "WH_USER = db_data['userid']\n",
    "WH_PW = db_data['password']\n",
    "\n",
    "#EAI code to be queried\n",
    "eai_cd = '7871'\n",
    "\n",
    "#Standard SQL to pull data for a given EAI Code\n",
    "sql = f\"\"\"SELECT number, short_description, description, u_resolution_notes, u_incident_resolution_category, \n",
    "u_incident_resolution_subcateg, close_code, contact_type\n",
    "  FROM [USBPMMetricsWhse].[dbo].[T_SRVNW_INCDN_SUM] a\n",
    "  JOIN [USBPMMetricsWhse].[dbo].[T_SRVNW_AFCT_TASK_CI_SUM] b on a.number = b.task\n",
    "  WHERE\n",
    "  a.DW_REC_CUR_IND = 'Y'\n",
    "  and b.ci_item like '{eai_cd}%'\n",
    "  and a.opened_at > '2018-06-01 00:00:00'\"\"\",
    "\n",
    "# runs the WarehouseDataExtract function and imports the data to a dataframe\n",
    "inputDF = WarehouseDataExtract(WH_USER, WH_PW, sql)"
   ]
  },
  {
   "cell_type": "code",
   "execution_count": null,
   "metadata": {},
   "outputs": [],
   "source": [
    "# print the head so you know which column to pull the text data from\n",
    "inputDF['rawtext'] = inputDF['short_description'].astype(str) + inputDF['description'].astype(str) + inputDF['u_resolution_notes'].astype(str) \n",
    "+ inputDF['u_incident_resolution_category'].astype(str) + inputDF['u_incident_resolution_subcateg'].astype(str) + inputDF['close_code'].astype(str)\n",
    "\n",
    "#pull over just the closing codes to a new column\n",
    "inputDF['rawCloseText'] = inputDF['u_incident_resolution_category'].astype(str) + inputDF['u_incident_resolution_subcateg'].astype(str) + inputDF['close_code'].astype(str)\n",
    "\n",
    "#print (inputDF.head())"
   ]
  },
  {
   "cell_type": "code",
   "execution_count": null,
   "metadata": {},
   "outputs": [],
   "source": [
    "print(\"There are {} observations and {} features in this dataset. \\n\".format(inputDF.shape[0],inputDF.shape[1]))\n",
    "#print(inputDF.describe())"
   ]
  },
  {
   "cell_type": "code",
   "execution_count": null,
   "metadata": {},
   "outputs": [],
   "source": [
    "#create a list of lists out of the text field in the inputDF\n",
    "summarylist = inputDF['rawtext'].tolist()"
   ]
  },
  {
   "cell_type": "code",
   "execution_count": null,
   "metadata": {},
   "outputs": [],
   "source": [
    "#combine the list of lists into a single list\n",
    "text = \" \".join(list for list in summarylist)"
   ]
  },
  {
   "cell_type": "code",
   "execution_count": null,
   "metadata": {},
   "outputs": [],
   "source": [
    "# clean the text string\n",
    "cleanText = cleanString(text)"
   ]
  },
  {
   "cell_type": "code",
   "execution_count": null,
   "metadata": {},
   "outputs": [],
   "source": [
    "# Create stopword list: use the \"remove_words\" list to add stop words to the list\n",
    "remove_words = ('entered', 'auto', 'ams', 'arm', 'metlife', 'l1', 'us', 'corporate', 'billing', 'system', 'byauto')\n",
    "stopset = createStopWords(remove_words)\n",
    "\n",
    "# Generate a word cloud image\n",
    "wordcloud = WordCloud(stopwords=stopset, background_color=\"white\").generate(cleanText)\n",
    "# Display the generated image:\n",
    "# the matplotlib way:\n",
    "plt.imshow(wordcloud, interpolation='bilinear')\n",
    "plt.axis(\"off\")\n",
    "plt.show()"
   ]
  },
  {
   "cell_type": "code",
   "execution_count": null,
   "metadata": {},
   "outputs": [],
   "source": [
    "#create a list of lists out of the closing codes field in the inputDF\n",
    "resolvelist = inputDF['rawCloseText'].tolist()\n",
    "#combine the list of lists into a single list\n",
    "resolvetext = \" \".join(list for list in resolvelist)\n",
    "# clean the text string\n",
    "cleanResolveText = cleanString(resolvetext)\n",
    "# Create stopword list: use the \"remove_words\" list to add stop words to the list\n",
    "remove_words = ('entered', 'auto', 'ams', 'arm', 'metlife', 'l1', 'us', 'corporate', 'billing', 'system', 'byauto')\n",
    "stopset = createStopWords(remove_words)\n",
    "# Generate a word cloud image\n",
    "wordcloud = WordCloud(stopwords=stopset, background_color=\"white\").generate(cleanResolveText)\n",
    "# Display the generated image:\n",
    "# the matplotlib way:\n",
    "plt.imshow(wordcloud, interpolation='bilinear')\n",
    "plt.axis(\"off\")\n",
    "plt.show()"
   ]
  },
  {
   "cell_type": "code",
   "execution_count": null,
   "metadata": {},
   "outputs": [],
   "source": []
  }
 ],
 "metadata": {
  "kernelspec": {
   "display_name": "Python 3",
   "language": "python",
   "name": "python3"
  },
  "language_info": {
   "codemirror_mode": {
    "name": "ipython",
    "version": 3
   },
   "file_extension": ".py",
   "mimetype": "text/x-python",
   "name": "python",
   "nbconvert_exporter": "python",
   "pygments_lexer": "ipython3",
   "version": "3.7.2"
  }
 },
 "nbformat": 4,
 "nbformat_minor": 2
}
